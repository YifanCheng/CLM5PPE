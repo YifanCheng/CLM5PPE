{
 "cells": [
  {
   "cell_type": "code",
   "execution_count": 1,
   "metadata": {},
   "outputs": [],
   "source": [
    "import pandas as pd\n",
    "import os\n",
    "from pyDOE import *\n",
    "from scipy.io import netcdf as nc\n",
    "import xarray as xr"
   ]
  },
  {
   "cell_type": "markdown",
   "metadata": {},
   "source": [
    "### Download latest version of params file from google drive\n",
    "* requires 'publishing' the google drive spreadsheet\n",
    "* file > publish to web\n",
    "* then it can be set up to continuously publish the spreadsheet to a stable url (with some latency, maybe 1-2 minutes)\n",
    "* note that the first tab must be the sheet where the relevant information is located"
   ]
  },
  {
   "cell_type": "code",
   "execution_count": 2,
   "metadata": {},
   "outputs": [
    {
     "data": {
      "text/plain": [
       "0"
      ]
     },
     "execution_count": 2,
     "metadata": {},
     "output_type": "execute_result"
    }
   ],
   "source": [
    "data_url = 'https://docs.google.com/spreadsheets/d/e/2PACX-1vQs413GtLXtHVDCqEPgAwn4BbDjoWmV7uFqOAWH4mgpxXoVfN6ijnJdhyRgLkV-n2eU-sSQush4CzYU/pub?output=csv'\n",
    "cmd = 'curl '+data_url+' > params.csv'\n",
    "os.system(cmd)"
   ]
  },
  {
   "cell_type": "markdown",
   "metadata": {},
   "source": [
    "### Read in csv data, filtering by the \"include\" column"
   ]
  },
  {
   "cell_type": "code",
   "execution_count": 3,
   "metadata": {},
   "outputs": [
    {
     "data": {
      "text/html": [
       "<div>\n",
       "<style scoped>\n",
       "    .dataframe tbody tr th:only-of-type {\n",
       "        vertical-align: middle;\n",
       "    }\n",
       "\n",
       "    .dataframe tbody tr th {\n",
       "        vertical-align: top;\n",
       "    }\n",
       "\n",
       "    .dataframe thead th {\n",
       "        text-align: right;\n",
       "    }\n",
       "</style>\n",
       "<table border=\"1\" class=\"dataframe\">\n",
       "  <thead>\n",
       "    <tr style=\"text-align: right;\">\n",
       "      <th></th>\n",
       "      <th>name</th>\n",
       "      <th>location</th>\n",
       "      <th>min</th>\n",
       "      <th>max</th>\n",
       "    </tr>\n",
       "  </thead>\n",
       "  <tbody>\n",
       "    <tr>\n",
       "      <td>12</td>\n",
       "      <td>displar</td>\n",
       "      <td>P</td>\n",
       "      <td>0.4</td>\n",
       "      <td>0.95</td>\n",
       "    </tr>\n",
       "    <tr>\n",
       "      <td>41</td>\n",
       "      <td>baseflow_scalar</td>\n",
       "      <td>N</td>\n",
       "      <td>0.0005</td>\n",
       "      <td>0.1</td>\n",
       "    </tr>\n",
       "    <tr>\n",
       "      <td>42</td>\n",
       "      <td>maximum_leaf_wetted_fraction</td>\n",
       "      <td>N</td>\n",
       "      <td>0.01</td>\n",
       "      <td>0.5</td>\n",
       "    </tr>\n",
       "    <tr>\n",
       "      <td>82</td>\n",
       "      <td>kmax</td>\n",
       "      <td>P</td>\n",
       "      <td>1.00E-08</td>\n",
       "      <td>3.00E-08</td>\n",
       "    </tr>\n",
       "  </tbody>\n",
       "</table>\n",
       "</div>"
      ],
      "text/plain": [
       "                            name location       min       max\n",
       "12                       displar        P       0.4      0.95\n",
       "41               baseflow_scalar        N    0.0005       0.1\n",
       "42  maximum_leaf_wetted_fraction        N      0.01       0.5\n",
       "82                          kmax        P  1.00E-08  3.00E-08"
      ]
     },
     "execution_count": 3,
     "metadata": {},
     "output_type": "execute_result"
    }
   ],
   "source": [
    "#data     = pd.read_csv('params.csv')\n",
    "data     = pd.read_csv('params.csv',header=0,skiprows=[1]) # modify read_csv to account for header spanning 2 rows\n",
    "included = data['include']==1\n",
    "params   = data.loc[included,['name','location','min','max']]\n",
    "\n",
    "params"
   ]
  },
  {
   "cell_type": "markdown",
   "metadata": {},
   "source": [
    "### Generate parameter sampling\n",
    " * option available for latin hypercube (LHC) or one-at-a-time (OAAT)\n",
    " * careful, each time you run LHC you get a new random draw"
   ]
  },
  {
   "cell_type": "code",
   "execution_count": 5,
   "metadata": {},
   "outputs": [
    {
     "data": {
      "text/html": [
       "<div>\n",
       "<style scoped>\n",
       "    .dataframe tbody tr th:only-of-type {\n",
       "        vertical-align: middle;\n",
       "    }\n",
       "\n",
       "    .dataframe tbody tr th {\n",
       "        vertical-align: top;\n",
       "    }\n",
       "\n",
       "    .dataframe thead th {\n",
       "        text-align: right;\n",
       "    }\n",
       "</style>\n",
       "<table border=\"1\" class=\"dataframe\">\n",
       "  <thead>\n",
       "    <tr style=\"text-align: right;\">\n",
       "      <th>name</th>\n",
       "      <th>displar</th>\n",
       "      <th>baseflow_scalar</th>\n",
       "      <th>maximum_leaf_wetted_fraction</th>\n",
       "      <th>kmax</th>\n",
       "    </tr>\n",
       "  </thead>\n",
       "  <tbody>\n",
       "    <tr>\n",
       "      <td>0</td>\n",
       "      <td>0.40</td>\n",
       "      <td>NaN</td>\n",
       "      <td>NaN</td>\n",
       "      <td>NaN</td>\n",
       "    </tr>\n",
       "    <tr>\n",
       "      <td>1</td>\n",
       "      <td>0.95</td>\n",
       "      <td>NaN</td>\n",
       "      <td>NaN</td>\n",
       "      <td>NaN</td>\n",
       "    </tr>\n",
       "    <tr>\n",
       "      <td>2</td>\n",
       "      <td>NaN</td>\n",
       "      <td>0.0005</td>\n",
       "      <td>NaN</td>\n",
       "      <td>NaN</td>\n",
       "    </tr>\n",
       "    <tr>\n",
       "      <td>3</td>\n",
       "      <td>NaN</td>\n",
       "      <td>0.1000</td>\n",
       "      <td>NaN</td>\n",
       "      <td>NaN</td>\n",
       "    </tr>\n",
       "    <tr>\n",
       "      <td>4</td>\n",
       "      <td>NaN</td>\n",
       "      <td>NaN</td>\n",
       "      <td>0.01</td>\n",
       "      <td>NaN</td>\n",
       "    </tr>\n",
       "    <tr>\n",
       "      <td>5</td>\n",
       "      <td>NaN</td>\n",
       "      <td>NaN</td>\n",
       "      <td>0.50</td>\n",
       "      <td>NaN</td>\n",
       "    </tr>\n",
       "    <tr>\n",
       "      <td>6</td>\n",
       "      <td>NaN</td>\n",
       "      <td>NaN</td>\n",
       "      <td>NaN</td>\n",
       "      <td>1.000000e-08</td>\n",
       "    </tr>\n",
       "    <tr>\n",
       "      <td>7</td>\n",
       "      <td>NaN</td>\n",
       "      <td>NaN</td>\n",
       "      <td>NaN</td>\n",
       "      <td>3.000000e-08</td>\n",
       "    </tr>\n",
       "  </tbody>\n",
       "</table>\n",
       "</div>"
      ],
      "text/plain": [
       "name  displar  baseflow_scalar  maximum_leaf_wetted_fraction          kmax\n",
       "0        0.40              NaN                           NaN           NaN\n",
       "1        0.95              NaN                           NaN           NaN\n",
       "2         NaN           0.0005                           NaN           NaN\n",
       "3         NaN           0.1000                           NaN           NaN\n",
       "4         NaN              NaN                          0.01           NaN\n",
       "5         NaN              NaN                          0.50           NaN\n",
       "6         NaN              NaN                           NaN  1.000000e-08\n",
       "7         NaN              NaN                           NaN  3.000000e-08"
      ]
     },
     "execution_count": 5,
     "metadata": {},
     "output_type": "execute_result"
    }
   ],
   "source": [
    "sampling_protocol = 'OAAT'\n",
    "prefix = sampling_protocol\n",
    "nparam = len(params['name'])  #number of parameters\n",
    "\n",
    "if sampling_protocol == 'LHC':\n",
    "    # define sample size (number of ensemble members)\n",
    "    nsamp = 10\n",
    "\n",
    "    # Generate the latin hypercube sample\n",
    "    lhd = lhs(nparam, samples=int(nsamp))\n",
    "\n",
    "    # scale according to parameter range\n",
    "    param_array = ((params['max'] - params['min']).values)*lhd + params['min'].values\n",
    "\n",
    "elif sampling_protocol == 'OAAT':\n",
    "    # NaN is code for keep the default value\n",
    "    nsamp = 2*nparam\n",
    "    param_array = np.nan*np.ones([nsamp,nparam])\n",
    "    mins_index = (np.arange(0,nsamp,2),np.arange(0,nparam,1))\n",
    "    maxs_index = (np.arange(1,nsamp,2),np.arange(0,nparam,1))\n",
    "    param_array[mins_index]=params['min']\n",
    "    param_array[maxs_index]=params['max']\n",
    "\n",
    "# store in a pandas dataframe\n",
    "psets = pd.DataFrame(data=param_array, index=None, columns=params['name'])\n",
    "psets"
   ]
  },
  {
   "cell_type": "markdown",
   "metadata": {},
   "source": [
    "## Generate parameter files\n",
    "* ### this will overwrite parameter files!!\n",
    "* ### proceed with caution"
   ]
  },
  {
   "cell_type": "code",
   "execution_count": 12,
   "metadata": {},
   "outputs": [
    {
     "name": "stdout",
     "output_type": "stream",
     "text": [
      "working on ../paramfiles/OAAT0001.nc\n",
      "displar modified\n",
      "working on ../paramfiles/OAAT0002.nc\n",
      "displar modified\n",
      "working on ../paramfiles/OAAT0003.nc\n",
      "working on ../paramfiles/OAAT0004.nc\n",
      "working on ../paramfiles/OAAT0005.nc\n",
      "working on ../paramfiles/OAAT0006.nc\n",
      "working on ../paramfiles/OAAT0007.nc\n",
      "kmax modified\n",
      "working on ../paramfiles/OAAT0008.nc\n",
      "kmax modified\n"
     ]
    }
   ],
   "source": [
    "# assign the basepftfile\n",
    "basepftfile = \"../basecase/clm5_params.c171117.nc\"\n",
    "\n",
    "# loop over nsamp and modify the parameter values accordingly\n",
    "for i in range(nsamp):\n",
    "    # open the default file\n",
    "    tmp = xr.open_dataset(basepftfile)\n",
    "    \n",
    "    # generate name for this param file\n",
    "    pftfile = \"../paramfiles/\"+prefix+str(i+1).zfill(4)+\".nc\"\n",
    "    print('working on '+pftfile)\n",
    "    \n",
    "    # loop over parameters\n",
    "    for name,loc in zip(params['name'],params['location']):\n",
    "        \n",
    "        # select parameters located in the params file only\n",
    "        if loc=='P':\n",
    "\n",
    "            # check to see if this parameter should be modified\n",
    "            # logic is checking for psets that are NOT NaNs\n",
    "            if pd.isna(psets[name][i])==False:\n",
    "                print(name+' modified')\n",
    "                var = tmp[name]\n",
    "                #print(var.shape)\n",
    "                                \n",
    "                # check for indexing by pft\n",
    "                if var.shape:   \n",
    "                    # check for indexing by segment by checking if length of shape is > 1 (IS SEGMENT THE ONLY EXAMPLE OF THIS?)\n",
    "                    if len(var.shape) > 1: \n",
    "                        tmp[name][:,1:] = psets[name][i]\n",
    "                    else: # indexed by pft only\n",
    "                        # skip the first index, don't want to overwrite non-vegetated landunit\n",
    "                        tmp[name][1:] = psets[name][i]\n",
    "                    \n",
    "                else: # single value, no indexing by pft\n",
    "                    tmp[name] = psets[name][i]\n",
    "    \n",
    "    # write changes (if any) to file\n",
    "    tmp.to_netcdf(pftfile,'w')"
   ]
  },
  {
   "cell_type": "markdown",
   "metadata": {},
   "source": [
    "## Generate namelist files"
   ]
  },
  {
   "cell_type": "code",
   "execution_count": 13,
   "metadata": {},
   "outputs": [
    {
     "name": "stdout",
     "output_type": "stream",
     "text": [
      "working on ../namelist_mods/OAAT0003.txt\n",
      "baseflow_scalar modified\n",
      "working on ../namelist_mods/OAAT0004.txt\n",
      "baseflow_scalar modified\n",
      "working on ../namelist_mods/OAAT0005.txt\n",
      "maximum_leaf_wetted_fraction modified\n",
      "working on ../namelist_mods/OAAT0006.txt\n",
      "maximum_leaf_wetted_fraction modified\n"
     ]
    }
   ],
   "source": [
    "# create the namelist mod files\n",
    "for i in range(nsamp):\n",
    "    nlfile = \"../namelist_mods/\"+prefix+str(i+1).zfill(4)+\".txt\" \n",
    "    with open(nlfile,\"w\") as file:\n",
    "        output = \"! user_nl_clm namelist options written by generate_params:\\n\"\n",
    "        file.write(output)\n",
    "\n",
    "# populate with mods\n",
    "for name,loc in zip(params['name'],params['location']):\n",
    "    if loc=='N':\n",
    "        for i in range(nsamp):\n",
    "            # check to see if this parameter should be modified\n",
    "            # logic is checking for psets that are NOT NaNs\n",
    "            if ~np.isnan(psets[name][i]):\n",
    "                nlfile = \"../namelist_mods/\"+prefix+str(i+1).zfill(4)+\".txt\"\n",
    "                print('working on '+nlfile)\n",
    "                with open(nlfile,\"a\") as file: # key is using \"a\" for append option\n",
    "                    print(name+' modified')\n",
    "                    output = \"%s=%s\\n\" % (name, psets[name][i]) #round??\n",
    "                    file.write(output) "
   ]
  },
  {
   "cell_type": "code",
   "execution_count": null,
   "metadata": {},
   "outputs": [],
   "source": []
  }
 ],
 "metadata": {
  "kernelspec": {
   "display_name": "Python (conda-analysis)",
   "language": "python",
   "name": "analysis"
  },
  "language_info": {
   "codemirror_mode": {
    "name": "ipython",
    "version": 3
   },
   "file_extension": ".py",
   "mimetype": "text/x-python",
   "name": "python",
   "nbconvert_exporter": "python",
   "pygments_lexer": "ipython3",
   "version": "3.7.3"
  }
 },
 "nbformat": 4,
 "nbformat_minor": 4
}
