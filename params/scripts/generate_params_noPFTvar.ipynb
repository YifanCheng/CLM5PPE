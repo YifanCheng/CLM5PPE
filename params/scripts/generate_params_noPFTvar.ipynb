{
 "cells": [
  {
   "cell_type": "markdown",
   "metadata": {},
   "source": [
    "## Note: This script should only be used if source data (spreadsheet) doesn't have any parameters where the perturbations will vary with PFT"
   ]
  },
  {
   "cell_type": "code",
   "execution_count": 1,
   "metadata": {},
   "outputs": [],
   "source": [
    "import pandas as pd\n",
    "import os\n",
    "from pyDOE import *\n",
    "from scipy.io import netcdf as nc\n",
    "import xarray as xr"
   ]
  },
  {
   "cell_type": "markdown",
   "metadata": {},
   "source": [
    "### Download latest version of params file from google drive\n",
    "* requires 'publishing' the google drive spreadsheet\n",
    "* file > publish to web\n",
    "* then it can be set up to continuously publish the spreadsheet to a stable url (with some latency, maybe 1-2 minutes)\n",
    "* note that the first tab must be the sheet where the relevant information is located"
   ]
  },
  {
   "cell_type": "code",
   "execution_count": 2,
   "metadata": {},
   "outputs": [
    {
     "data": {
      "text/plain": [
       "0"
      ]
     },
     "execution_count": 2,
     "metadata": {},
     "output_type": "execute_result"
    }
   ],
   "source": [
    "data_url = 'https://docs.google.com/spreadsheets/d/e/2PACX-1vQs413GtLXtHVDCqEPgAwn4BbDjoWmV7uFqOAWH4mgpxXoVfN6ijnJdhyRgLkV-n2eU-sSQush4CzYU/pub?output=csv'\n",
    "cmd = 'curl '+data_url+' > params.csv'\n",
    "os.system(cmd)"
   ]
  },
  {
   "cell_type": "markdown",
   "metadata": {},
   "source": [
    "### Read in csv data, filtering by the \"include\" column"
   ]
  },
  {
   "cell_type": "code",
   "execution_count": 4,
   "metadata": {},
   "outputs": [
    {
     "data": {
      "text/html": [
       "<div>\n",
       "<style scoped>\n",
       "    .dataframe tbody tr th:only-of-type {\n",
       "        vertical-align: middle;\n",
       "    }\n",
       "\n",
       "    .dataframe tbody tr th {\n",
       "        vertical-align: top;\n",
       "    }\n",
       "\n",
       "    .dataframe thead th {\n",
       "        text-align: right;\n",
       "    }\n",
       "</style>\n",
       "<table border=\"1\" class=\"dataframe\">\n",
       "  <thead>\n",
       "    <tr style=\"text-align: right;\">\n",
       "      <th></th>\n",
       "      <th>name</th>\n",
       "      <th>location</th>\n",
       "      <th>min</th>\n",
       "      <th>max</th>\n",
       "    </tr>\n",
       "  </thead>\n",
       "  <tbody>\n",
       "    <tr>\n",
       "      <td>0</td>\n",
       "      <td>displar</td>\n",
       "      <td>P</td>\n",
       "      <td>0.4</td>\n",
       "      <td>0.95</td>\n",
       "    </tr>\n",
       "    <tr>\n",
       "      <td>1</td>\n",
       "      <td>csoilc</td>\n",
       "      <td>P</td>\n",
       "      <td>0.0025</td>\n",
       "      <td>0.012</td>\n",
       "    </tr>\n",
       "    <tr>\n",
       "      <td>2</td>\n",
       "      <td>baseflow_scalar</td>\n",
       "      <td>N</td>\n",
       "      <td>0.0005</td>\n",
       "      <td>0.1</td>\n",
       "    </tr>\n",
       "    <tr>\n",
       "      <td>3</td>\n",
       "      <td>maximum_leaf_wetted_fraction</td>\n",
       "      <td>N</td>\n",
       "      <td>0.01</td>\n",
       "      <td>0.5</td>\n",
       "    </tr>\n",
       "    <tr>\n",
       "      <td>4</td>\n",
       "      <td>fff</td>\n",
       "      <td>P</td>\n",
       "      <td>0.02</td>\n",
       "      <td>5</td>\n",
       "    </tr>\n",
       "  </tbody>\n",
       "</table>\n",
       "</div>"
      ],
      "text/plain": [
       "                           name location     min    max\n",
       "0                       displar        P     0.4   0.95\n",
       "1                        csoilc        P  0.0025  0.012\n",
       "2               baseflow_scalar        N  0.0005    0.1\n",
       "3  maximum_leaf_wetted_fraction        N    0.01    0.5\n",
       "4                           fff        P    0.02      5"
      ]
     },
     "execution_count": 4,
     "metadata": {},
     "output_type": "execute_result"
    }
   ],
   "source": [
    "#data     = pd.read_csv('params.csv')\n",
    "data     = pd.read_csv('params.csv',header=0,skiprows=[1]) # modify read_csv to account for header spanning 2 rows\n",
    "included = data['include']==1\n",
    "params_full   = data.loc[included,['name','location','min','max']]\n",
    "\n",
    "# reset indexing and get rid of excel row number\n",
    "params = params_full.reset_index(drop=True)\n",
    "\n",
    "params"
   ]
  },
  {
   "cell_type": "markdown",
   "metadata": {},
   "source": [
    "### Generate parameter sampling\n",
    " * option available for latin hypercube (LHC) or one-at-a-time (OAAT)\n",
    " * careful, each time you run LHC you get a new random draw"
   ]
  },
  {
   "cell_type": "code",
   "execution_count": 22,
   "metadata": {},
   "outputs": [
    {
     "data": {
      "text/html": [
       "<div>\n",
       "<style scoped>\n",
       "    .dataframe tbody tr th:only-of-type {\n",
       "        vertical-align: middle;\n",
       "    }\n",
       "\n",
       "    .dataframe tbody tr th {\n",
       "        vertical-align: top;\n",
       "    }\n",
       "\n",
       "    .dataframe thead th {\n",
       "        text-align: right;\n",
       "    }\n",
       "</style>\n",
       "<table border=\"1\" class=\"dataframe\">\n",
       "  <thead>\n",
       "    <tr style=\"text-align: right;\">\n",
       "      <th>name</th>\n",
       "      <th>displar</th>\n",
       "      <th>csoilc</th>\n",
       "      <th>baseflow_scalar</th>\n",
       "      <th>maximum_leaf_wetted_fraction</th>\n",
       "      <th>fff</th>\n",
       "    </tr>\n",
       "  </thead>\n",
       "  <tbody>\n",
       "    <tr>\n",
       "      <td>0</td>\n",
       "      <td>0.40</td>\n",
       "      <td>NaN</td>\n",
       "      <td>NaN</td>\n",
       "      <td>NaN</td>\n",
       "      <td>NaN</td>\n",
       "    </tr>\n",
       "    <tr>\n",
       "      <td>1</td>\n",
       "      <td>0.95</td>\n",
       "      <td>NaN</td>\n",
       "      <td>NaN</td>\n",
       "      <td>NaN</td>\n",
       "      <td>NaN</td>\n",
       "    </tr>\n",
       "    <tr>\n",
       "      <td>2</td>\n",
       "      <td>NaN</td>\n",
       "      <td>0.0025</td>\n",
       "      <td>NaN</td>\n",
       "      <td>NaN</td>\n",
       "      <td>NaN</td>\n",
       "    </tr>\n",
       "    <tr>\n",
       "      <td>3</td>\n",
       "      <td>NaN</td>\n",
       "      <td>0.0120</td>\n",
       "      <td>NaN</td>\n",
       "      <td>NaN</td>\n",
       "      <td>NaN</td>\n",
       "    </tr>\n",
       "    <tr>\n",
       "      <td>4</td>\n",
       "      <td>NaN</td>\n",
       "      <td>NaN</td>\n",
       "      <td>0.0005</td>\n",
       "      <td>NaN</td>\n",
       "      <td>NaN</td>\n",
       "    </tr>\n",
       "    <tr>\n",
       "      <td>5</td>\n",
       "      <td>NaN</td>\n",
       "      <td>NaN</td>\n",
       "      <td>0.1000</td>\n",
       "      <td>NaN</td>\n",
       "      <td>NaN</td>\n",
       "    </tr>\n",
       "    <tr>\n",
       "      <td>6</td>\n",
       "      <td>NaN</td>\n",
       "      <td>NaN</td>\n",
       "      <td>NaN</td>\n",
       "      <td>0.01</td>\n",
       "      <td>NaN</td>\n",
       "    </tr>\n",
       "    <tr>\n",
       "      <td>7</td>\n",
       "      <td>NaN</td>\n",
       "      <td>NaN</td>\n",
       "      <td>NaN</td>\n",
       "      <td>0.50</td>\n",
       "      <td>NaN</td>\n",
       "    </tr>\n",
       "    <tr>\n",
       "      <td>8</td>\n",
       "      <td>NaN</td>\n",
       "      <td>NaN</td>\n",
       "      <td>NaN</td>\n",
       "      <td>NaN</td>\n",
       "      <td>0.02</td>\n",
       "    </tr>\n",
       "    <tr>\n",
       "      <td>9</td>\n",
       "      <td>NaN</td>\n",
       "      <td>NaN</td>\n",
       "      <td>NaN</td>\n",
       "      <td>NaN</td>\n",
       "      <td>5.00</td>\n",
       "    </tr>\n",
       "  </tbody>\n",
       "</table>\n",
       "</div>"
      ],
      "text/plain": [
       "name  displar  csoilc  baseflow_scalar  maximum_leaf_wetted_fraction   fff\n",
       "0        0.40     NaN              NaN                           NaN   NaN\n",
       "1        0.95     NaN              NaN                           NaN   NaN\n",
       "2         NaN  0.0025              NaN                           NaN   NaN\n",
       "3         NaN  0.0120              NaN                           NaN   NaN\n",
       "4         NaN     NaN           0.0005                           NaN   NaN\n",
       "5         NaN     NaN           0.1000                           NaN   NaN\n",
       "6         NaN     NaN              NaN                          0.01   NaN\n",
       "7         NaN     NaN              NaN                          0.50   NaN\n",
       "8         NaN     NaN              NaN                           NaN  0.02\n",
       "9         NaN     NaN              NaN                           NaN  5.00"
      ]
     },
     "execution_count": 22,
     "metadata": {},
     "output_type": "execute_result"
    }
   ],
   "source": [
    "sampling_protocol = 'OAAT'\n",
    "#sampling_protocol = 'LHC'\n",
    "prefix = sampling_protocol\n",
    "nparam = len(params['name'])  #number of parameters\n",
    "\n",
    "if sampling_protocol == 'LHC':\n",
    "    # define sample size (number of ensemble members)\n",
    "    nsamp = 10\n",
    "\n",
    "    # Generate the latin hypercube sample\n",
    "    lhd = lhs(nparam, samples=int(nsamp))\n",
    "\n",
    "    # initialize min/max arrays\n",
    "    min_array = np.nan*np.ones(nparam)\n",
    "    max_array = np.nan*np.ones(nparam)\n",
    "    \n",
    "    # generate arrays with min and max values\n",
    "    for i in range(nparam):\n",
    "        \n",
    "        # assign min/max values\n",
    "        min_array[i] = float(params['min'].values[i])\n",
    "        max_array[i] = float(params['max'].values[i])\n",
    "        \n",
    "    # calculate parameter values\n",
    "    param_array = (max_array - min_array)*lhd + min_array\n",
    "\n",
    "elif sampling_protocol == 'OAAT':\n",
    "    # NaN is code for keep the default value\n",
    "    nsamp = 2*nparam\n",
    "    param_array = np.nan*np.ones([nsamp,nparam])\n",
    "    mins_index = (np.arange(0,nsamp,2),np.arange(0,nparam,1))\n",
    "    maxs_index = (np.arange(1,nsamp,2),np.arange(0,nparam,1))\n",
    "    param_array[mins_index]=params['min']\n",
    "    param_array[maxs_index]=params['max']\n",
    "\n",
    "# store in a pandas dataframe\n",
    "psets = pd.DataFrame(data=param_array, index=None, columns=params['name'])\n",
    "psets"
   ]
  },
  {
   "cell_type": "markdown",
   "metadata": {},
   "source": [
    "## Generate parameter files\n",
    "* ### this will overwrite parameter files!!\n",
    "* ### proceed with caution"
   ]
  },
  {
   "cell_type": "code",
   "execution_count": 23,
   "metadata": {},
   "outputs": [
    {
     "name": "stdout",
     "output_type": "stream",
     "text": [
      "working on ../paramfiles/OAAT0001.nc\n",
      "displar modified\n",
      "working on ../paramfiles/OAAT0002.nc\n",
      "displar modified\n",
      "working on ../paramfiles/OAAT0003.nc\n",
      "csoilc modified\n",
      "working on ../paramfiles/OAAT0004.nc\n",
      "csoilc modified\n",
      "working on ../paramfiles/OAAT0005.nc\n",
      "working on ../paramfiles/OAAT0006.nc\n",
      "working on ../paramfiles/OAAT0007.nc\n",
      "working on ../paramfiles/OAAT0008.nc\n",
      "working on ../paramfiles/OAAT0009.nc\n",
      "fff modified\n",
      "working on ../paramfiles/OAAT0010.nc\n",
      "fff modified\n"
     ]
    }
   ],
   "source": [
    "# assign the basepftfile\n",
    "basepftfile = \"../basecase/clm5_params.c200425.nc\"\n",
    "\n",
    "# loop over nsamp and modify the parameter values accordingly\n",
    "for i in range(nsamp):\n",
    "    # open the default file\n",
    "    tmp = xr.open_dataset(basepftfile)\n",
    "    \n",
    "    # generate name for this param file\n",
    "    pftfile = \"../paramfiles/\"+prefix+str(i+1).zfill(4)+\".nc\"\n",
    "    print('working on '+pftfile)\n",
    "    \n",
    "    # loop over parameters\n",
    "    for name,loc in zip(params['name'],params['location']):\n",
    "        \n",
    "        # select parameters located in the params file only\n",
    "        if loc=='P':\n",
    "\n",
    "            if sampling_protocol == 'LHC':\n",
    "                print(name+' modified')\n",
    "                var = tmp[name]\n",
    "                \n",
    "                # check for indexing by pft\n",
    "                if var.shape:\n",
    "                    \n",
    "                    # check for indexing by segment or variants (first dim) if length of shape is >1\n",
    "                    # skip the first index, don't want to overwrite non-vegetated values\n",
    "                    if len(var.shape) > 1: \n",
    "                        tmp[name][:,1:] = psets[name][i]\n",
    "                    else: # indexed by pft only\n",
    "                        tmp[name][1:] = psets[name][i]\n",
    "\n",
    "                else: # single value, no indexing by pft\n",
    "                    tmp[name] = psets[name][i]\n",
    "                    \n",
    "            elif sampling_protocol == 'OAAT':\n",
    "                # check to see if this parameter should be modified\n",
    "                # logic is checking for psets that are NOT NaNs\n",
    "                if pd.isna(psets[name][i])==False:\n",
    "                    print(name+' modified')\n",
    "                    var = tmp[name]\n",
    "                    #print(var.shape)\n",
    "                                \n",
    "                    # check for indexing by pft\n",
    "                    if var.shape:\n",
    "                    \n",
    "                        # check for indexing by segment or variants (first dim) if length of shape is >1\n",
    "                        # skip the first index, don't want to overwrite non-vegetated values\n",
    "                        if len(var.shape) > 1: \n",
    "                            tmp[name][:,1:] = psets[name][i]\n",
    "                        else: # indexed by pft only\n",
    "                            tmp[name][1:] = psets[name][i]\n",
    "                    \n",
    "                    else: # single value, no indexing by pft\n",
    "                        tmp[name] = psets[name][i]\n",
    "    \n",
    "    # write changes (if any) to file\n",
    "    tmp.to_netcdf(pftfile,'w')"
   ]
  },
  {
   "cell_type": "markdown",
   "metadata": {},
   "source": [
    "## Generate namelist files"
   ]
  },
  {
   "cell_type": "code",
   "execution_count": 24,
   "metadata": {},
   "outputs": [
    {
     "name": "stdout",
     "output_type": "stream",
     "text": [
      "working on ../namelist_mods/OAAT0005.txt\n",
      "baseflow_scalar modified\n",
      "working on ../namelist_mods/OAAT0006.txt\n",
      "baseflow_scalar modified\n",
      "working on ../namelist_mods/OAAT0007.txt\n",
      "maximum_leaf_wetted_fraction modified\n",
      "working on ../namelist_mods/OAAT0008.txt\n",
      "maximum_leaf_wetted_fraction modified\n"
     ]
    }
   ],
   "source": [
    "# create the namelist mod files\n",
    "for i in range(nsamp):\n",
    "    nlfile = \"../namelist_mods/\"+prefix+str(i+1).zfill(4)+\".txt\" \n",
    "    with open(nlfile,\"w\") as file:\n",
    "        output = \"! user_nl_clm namelist options written by generate_params:\\n\"\n",
    "        file.write(output)\n",
    "\n",
    "# populate with mods\n",
    "for name,loc in zip(params['name'],params['location']):\n",
    "    if loc=='N':\n",
    "        for i in range(nsamp):\n",
    "            \n",
    "            if sampling_protocol == 'LHC':\n",
    "                nlfile = \"../namelist_mods/\"+prefix+str(i+1).zfill(4)+\".txt\"\n",
    "                print('working on '+nlfile)\n",
    "                with open(nlfile,\"a\") as file: # key is using \"a\" for append option\n",
    "                    print(name+' modified')\n",
    "                    output = \"%s=%s\\n\" % (name, psets[name][i]) #round??\n",
    "                    file.write(output)\n",
    "                \n",
    "            elif sampling_protocol == 'OAAT':\n",
    "                # check to see if this parameter should be modified\n",
    "                # logic is checking for psets that are NOT NaNs\n",
    "                if ~np.isnan(psets[name][i]):\n",
    "                    nlfile = \"../namelist_mods/\"+prefix+str(i+1).zfill(4)+\".txt\"\n",
    "                    print('working on '+nlfile)\n",
    "                    with open(nlfile,\"a\") as file: # key is using \"a\" for append option\n",
    "                        print(name+' modified')\n",
    "                        output = \"%s=%s\\n\" % (name, psets[name][i]) #round??\n",
    "                        file.write(output) "
   ]
  },
  {
   "cell_type": "markdown",
   "metadata": {},
   "source": [
    "## Save off the parameter sets"
   ]
  },
  {
   "cell_type": "code",
   "execution_count": 21,
   "metadata": {},
   "outputs": [],
   "source": [
    "# create a name for this particular ensemble\n",
    "ensemble_name = \"test0001_noPFTvar\"\n",
    "# build the file name with the prefix (ensemble type)\n",
    "psetsfile = \"../parameter_sets/\"+prefix+\"_\"+ensemble_name+\".csv\"\n",
    "#print(psetsfile)\n",
    "\n",
    "# save the psets dataframe to csv\n",
    "psets.to_csv(psetsfile)"
   ]
  },
  {
   "cell_type": "code",
   "execution_count": null,
   "metadata": {},
   "outputs": [],
   "source": []
  }
 ],
 "metadata": {
  "kernelspec": {
   "display_name": "Python (conda-analysis)",
   "language": "python",
   "name": "analysis"
  },
  "language_info": {
   "codemirror_mode": {
    "name": "ipython",
    "version": 3
   },
   "file_extension": ".py",
   "mimetype": "text/x-python",
   "name": "python",
   "nbconvert_exporter": "python",
   "pygments_lexer": "ipython3",
   "version": "3.7.3"
  }
 },
 "nbformat": 4,
 "nbformat_minor": 4
}
