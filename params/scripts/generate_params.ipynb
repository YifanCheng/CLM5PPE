{
 "cells": [
  {
   "cell_type": "code",
   "execution_count": 1,
   "metadata": {},
   "outputs": [],
   "source": [
    "import pandas as pd\n",
    "import os\n",
    "from pyDOE import *\n",
    "from scipy.io import netcdf as nc"
   ]
  },
  {
   "cell_type": "markdown",
   "metadata": {},
   "source": [
    "### Download latest version of params file from google drive\n",
    "* requires 'publishing' the google drive spreadsheet\n",
    "* file > publish to web\n",
    "* then it can be set up to continuously publish the spreadsheet to a stable url (with some latency, maybe 1-2 minutes)"
   ]
  },
  {
   "cell_type": "code",
   "execution_count": 58,
   "metadata": {},
   "outputs": [
    {
     "data": {
      "text/plain": [
       "0"
      ]
     },
     "execution_count": 58,
     "metadata": {},
     "output_type": "execute_result"
    }
   ],
   "source": [
    "data_url = 'https://docs.google.com/spreadsheets/d/e/2PACX-1vQs413GtLXtHVDCqEPgAwn4BbDjoWmV7uFqOAWH4mgpxXoVfN6ijnJdhyRgLkV-n2eU-sSQush4CzYU/pub?output=csv'\n",
    "cmd = 'curl '+data_url+' > params.csv'\n",
    "os.system(cmd)"
   ]
  },
  {
   "cell_type": "markdown",
   "metadata": {},
   "source": [
    "### Read in csv data, filtering by the \"include\" column"
   ]
  },
  {
   "cell_type": "code",
   "execution_count": 71,
   "metadata": {},
   "outputs": [
    {
     "data": {
      "text/plain": [
       "array([0.000216, 0.000216, 0.00072 , 0.0081  , 0.0081  , 0.0081  ,\n",
       "       0.0081  , 0.0081  , 0.0081  , 0.000405, 0.000162, 0.000144,\n",
       "       0.000144, 0.000144, 0.000162])"
      ]
     },
     "execution_count": 71,
     "metadata": {},
     "output_type": "execute_result"
    }
   ],
   "source": [
    "data     = pd.read_csv('params.csv')\n",
    "included = data['include']==1\n",
    "params   = data.loc[included,['name','min','max','location','pft_mins','pft_maxs']]\n",
    "\n",
    "np.fromstring(params['pft_mins'][2],dtype='float',sep=',')"
   ]
  },
  {
   "cell_type": "markdown",
   "metadata": {},
   "source": [
    "### Generate parameter sampling\n",
    " * option available for latin hypercube (LHC) or one-at-a-time (OAAT)\n",
    " * careful, each time you run LHC you get a new random draw"
   ]
  },
  {
   "cell_type": "code",
   "execution_count": 31,
   "metadata": {},
   "outputs": [
    {
     "data": {
      "text/html": [
       "<div>\n",
       "<style scoped>\n",
       "    .dataframe tbody tr th:only-of-type {\n",
       "        vertical-align: middle;\n",
       "    }\n",
       "\n",
       "    .dataframe tbody tr th {\n",
       "        vertical-align: top;\n",
       "    }\n",
       "\n",
       "    .dataframe thead th {\n",
       "        text-align: right;\n",
       "    }\n",
       "</style>\n",
       "<table border=\"1\" class=\"dataframe\">\n",
       "  <thead>\n",
       "    <tr style=\"text-align: right;\">\n",
       "      <th>name</th>\n",
       "      <th>displar</th>\n",
       "      <th>dleaf</th>\n",
       "      <th>kmax</th>\n",
       "      <th>baseflow_scalar</th>\n",
       "      <th>maximum_leaf_wetted_fraction</th>\n",
       "    </tr>\n",
       "  </thead>\n",
       "  <tbody>\n",
       "    <tr>\n",
       "      <th>0</th>\n",
       "      <td>0.40</td>\n",
       "      <td>NaN</td>\n",
       "      <td>NaN</td>\n",
       "      <td>NaN</td>\n",
       "      <td>NaN</td>\n",
       "    </tr>\n",
       "    <tr>\n",
       "      <th>1</th>\n",
       "      <td>0.95</td>\n",
       "      <td>NaN</td>\n",
       "      <td>NaN</td>\n",
       "      <td>NaN</td>\n",
       "      <td>NaN</td>\n",
       "    </tr>\n",
       "    <tr>\n",
       "      <th>2</th>\n",
       "      <td>NaN</td>\n",
       "      <td>0.0081</td>\n",
       "      <td>NaN</td>\n",
       "      <td>NaN</td>\n",
       "      <td>NaN</td>\n",
       "    </tr>\n",
       "    <tr>\n",
       "      <th>3</th>\n",
       "      <td>NaN</td>\n",
       "      <td>0.2430</td>\n",
       "      <td>NaN</td>\n",
       "      <td>NaN</td>\n",
       "      <td>NaN</td>\n",
       "    </tr>\n",
       "    <tr>\n",
       "      <th>4</th>\n",
       "      <td>NaN</td>\n",
       "      <td>NaN</td>\n",
       "      <td>1.000000e-08</td>\n",
       "      <td>NaN</td>\n",
       "      <td>NaN</td>\n",
       "    </tr>\n",
       "    <tr>\n",
       "      <th>5</th>\n",
       "      <td>NaN</td>\n",
       "      <td>NaN</td>\n",
       "      <td>3.000000e-08</td>\n",
       "      <td>NaN</td>\n",
       "      <td>NaN</td>\n",
       "    </tr>\n",
       "    <tr>\n",
       "      <th>6</th>\n",
       "      <td>NaN</td>\n",
       "      <td>NaN</td>\n",
       "      <td>NaN</td>\n",
       "      <td>0.0005</td>\n",
       "      <td>NaN</td>\n",
       "    </tr>\n",
       "    <tr>\n",
       "      <th>7</th>\n",
       "      <td>NaN</td>\n",
       "      <td>NaN</td>\n",
       "      <td>NaN</td>\n",
       "      <td>0.1000</td>\n",
       "      <td>NaN</td>\n",
       "    </tr>\n",
       "    <tr>\n",
       "      <th>8</th>\n",
       "      <td>NaN</td>\n",
       "      <td>NaN</td>\n",
       "      <td>NaN</td>\n",
       "      <td>NaN</td>\n",
       "      <td>0.01</td>\n",
       "    </tr>\n",
       "    <tr>\n",
       "      <th>9</th>\n",
       "      <td>NaN</td>\n",
       "      <td>NaN</td>\n",
       "      <td>NaN</td>\n",
       "      <td>NaN</td>\n",
       "      <td>0.50</td>\n",
       "    </tr>\n",
       "  </tbody>\n",
       "</table>\n",
       "</div>"
      ],
      "text/plain": [
       "name  displar   dleaf          kmax  baseflow_scalar  \\\n",
       "0        0.40     NaN           NaN              NaN   \n",
       "1        0.95     NaN           NaN              NaN   \n",
       "2         NaN  0.0081           NaN              NaN   \n",
       "3         NaN  0.2430           NaN              NaN   \n",
       "4         NaN     NaN  1.000000e-08              NaN   \n",
       "5         NaN     NaN  3.000000e-08              NaN   \n",
       "6         NaN     NaN           NaN           0.0005   \n",
       "7         NaN     NaN           NaN           0.1000   \n",
       "8         NaN     NaN           NaN              NaN   \n",
       "9         NaN     NaN           NaN              NaN   \n",
       "\n",
       "name  maximum_leaf_wetted_fraction  \n",
       "0                              NaN  \n",
       "1                              NaN  \n",
       "2                              NaN  \n",
       "3                              NaN  \n",
       "4                              NaN  \n",
       "5                              NaN  \n",
       "6                              NaN  \n",
       "7                              NaN  \n",
       "8                             0.01  \n",
       "9                             0.50  "
      ]
     },
     "execution_count": 31,
     "metadata": {},
     "output_type": "execute_result"
    }
   ],
   "source": [
    "sampling_protocol = 'OAAT'\n",
    "prefix = sampling_protocol\n",
    "nparam = len(params['name'])  #number of parameters\n",
    "\n",
    "if sampling_protocol == 'LHC':\n",
    "    #define sample size (number of ensemble members)\n",
    "    nsamp = 10\n",
    "\n",
    "    # Generate the latin hypercube sample\n",
    "    lhd = lhs(nparam, samples=int(nsamp))\n",
    "\n",
    "    # scale according to parameter range\n",
    "    param_array = ((params['max'] - params['min']).values)*lhd + params['min'].values\n",
    "\n",
    "elif sampling_protocol == 'OAAT':\n",
    "    #nan is code for keep the default value\n",
    "    nsamp = 2*nparam\n",
    "    param_array = np.nan*np.ones([nsamp,nparam])\n",
    "    mins_index = (np.arange(0,nsamp,2),np.arange(0,nparam,1))\n",
    "    maxs_index = (np.arange(1,nsamp,2),np.arange(0,nparam,1))\n",
    "    param_array[mins_index]=params['min']\n",
    "    param_array[maxs_index]=params['max']\n",
    "\n",
    "# store in a pandas dataframe\n",
    "psets = pd.DataFrame(data=param_array, index=None, columns=params['name'])\n",
    "psets"
   ]
  },
  {
   "cell_type": "markdown",
   "metadata": {},
   "source": [
    "## Generate parameter files\n",
    "* ### this will overwrite parameter files!!\n",
    "* ### proceed with caution"
   ]
  },
  {
   "cell_type": "code",
   "execution_count": 32,
   "metadata": {},
   "outputs": [
    {
     "name": "stdout",
     "output_type": "stream",
     "text": [
      "../paramfiles/OAAT0000.nc\n",
      "../paramfiles/OAAT0001.nc\n",
      "../paramfiles/OAAT0002.nc\n",
      "../paramfiles/OAAT0003.nc\n",
      "../paramfiles/OAAT0004.nc\n",
      "../paramfiles/OAAT0005.nc\n",
      "../paramfiles/OAAT0006.nc\n",
      "../paramfiles/OAAT0007.nc\n",
      "../paramfiles/OAAT0008.nc\n",
      "../paramfiles/OAAT0009.nc\n",
      "../paramfiles/OAAT0010.nc\n",
      "displar\n",
      "dleaf\n",
      "kmax\n"
     ]
    }
   ],
   "source": [
    "#create all the new parameter files, copied from basepftfile\n",
    "# 0th case is the default parameter set\n",
    "basepftfile = \"../basecase/clm5_params.c171117.nc\"\n",
    "for i in range(nsamp+1):\n",
    "    targetpftfile = \"../paramfiles/\"+prefix+str(i).zfill(4)+\".nc\"\n",
    "    print(targetpftfile)\n",
    "    os.system('cp '+basepftfile+' '+targetpftfile)\n",
    "    \n",
    "#modify the parameter values\n",
    "for name,loc in zip(params['name'],params['location']):\n",
    "    if loc=='P':\n",
    "        print(name)\n",
    "        for i in range(nsamp):\n",
    "            if ~np.isnan(psets[name][i]):\n",
    "                pftfile = \"../paramfiles/\"+prefix+str(i+1).zfill(4)+\".nc\"\n",
    "                f = nc.netcdf_file(pftfile, 'a') # could probably update this to use xarray\n",
    "                var = f.variables[name]\n",
    "                var[:] = psets[name][i] \n",
    "                # TODO: pft variations\n",
    "                f.close()"
   ]
  },
  {
   "cell_type": "markdown",
   "metadata": {},
   "source": [
    "### Generate namelist files"
   ]
  },
  {
   "cell_type": "code",
   "execution_count": 33,
   "metadata": {},
   "outputs": [],
   "source": [
    "#create the namelist mod files\n",
    "for i in range(nsamp+1):\n",
    "    nlfile = \"../namelist_mods/\"+prefix+str(i).zfill(4)+\".txt\" \n",
    "    with open(nlfile,\"w\") as file:\n",
    "        output = \"! user_nl_clm namelist options written by generate_params:\\n\"\n",
    "        file.write(output)\n",
    "#populate with mods\n",
    "for name,loc in zip(params['name'],params['location']):\n",
    "    if loc=='N':\n",
    "        for i in range(nsamp):\n",
    "            if ~np.isnan(psets[name][i]):\n",
    "                nlfile = \"../namelist_mods/\"+prefix+str(i+1).zfill(4)+\".txt\"  \n",
    "                with open(nlfile,\"a\") as file: # key is using \"a\" for append option\n",
    "                    output = \"%s=%s\\n\" % (name, psets[name][i]) #round??\n",
    "                    file.write(output) "
   ]
  },
  {
   "cell_type": "code",
   "execution_count": 19,
   "metadata": {},
   "outputs": [],
   "source": []
  },
  {
   "cell_type": "code",
   "execution_count": null,
   "metadata": {},
   "outputs": [],
   "source": []
  }
 ],
 "metadata": {
  "kernelspec": {
   "display_name": "Python 3",
   "language": "python",
   "name": "python3"
  },
  "language_info": {
   "codemirror_mode": {
    "name": "ipython",
    "version": 3
   },
   "file_extension": ".py",
   "mimetype": "text/x-python",
   "name": "python",
   "nbconvert_exporter": "python",
   "pygments_lexer": "ipython3",
   "version": "3.6.8"
  }
 },
 "nbformat": 4,
 "nbformat_minor": 4
}
