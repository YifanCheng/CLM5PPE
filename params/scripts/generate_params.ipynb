{
 "cells": [
  {
   "cell_type": "code",
   "execution_count": 8,
   "metadata": {},
   "outputs": [],
   "source": [
    "import pandas as pd\n",
    "import os\n",
    "from pyDOE import *\n",
    "from scipy.io import netcdf as nc"
   ]
  },
  {
   "cell_type": "markdown",
   "metadata": {},
   "source": [
    "### Download latest version of params file from google drive\n",
    "* requires 'publishing' the google drive spreadsheet\n",
    "* file > publish to web\n",
    "* then it can be set up to continuously publish the spreadsheet to a stable url (with some latency, maybe 1-2 minutes)"
   ]
  },
  {
   "cell_type": "code",
   "execution_count": 2,
   "metadata": {},
   "outputs": [
    {
     "data": {
      "text/plain": [
       "0"
      ]
     },
     "execution_count": 2,
     "metadata": {},
     "output_type": "execute_result"
    }
   ],
   "source": [
    "data_url = 'https://docs.google.com/spreadsheets/d/e/2PACX-1vQs413GtLXtHVDCqEPgAwn4BbDjoWmV7uFqOAWH4mgpxXoVfN6ijnJdhyRgLkV-n2eU-sSQush4CzYU/pub?output=csv'\n",
    "cmd = 'curl '+data_url+' > params.csv'\n",
    "os.system(cmd)"
   ]
  },
  {
   "cell_type": "markdown",
   "metadata": {},
   "source": [
    "### Read in csv data, filtering by the \"include\" column"
   ]
  },
  {
   "cell_type": "code",
   "execution_count": 4,
   "metadata": {},
   "outputs": [
    {
     "data": {
      "text/html": [
       "<div>\n",
       "<style scoped>\n",
       "    .dataframe tbody tr th:only-of-type {\n",
       "        vertical-align: middle;\n",
       "    }\n",
       "\n",
       "    .dataframe tbody tr th {\n",
       "        vertical-align: top;\n",
       "    }\n",
       "\n",
       "    .dataframe thead th {\n",
       "        text-align: right;\n",
       "    }\n",
       "</style>\n",
       "<table border=\"1\" class=\"dataframe\">\n",
       "  <thead>\n",
       "    <tr style=\"text-align: right;\">\n",
       "      <th></th>\n",
       "      <th>name</th>\n",
       "      <th>min</th>\n",
       "      <th>max</th>\n",
       "      <th>dim2</th>\n",
       "      <th>location</th>\n",
       "    </tr>\n",
       "  </thead>\n",
       "  <tbody>\n",
       "    <tr>\n",
       "      <th>1</th>\n",
       "      <td>displar</td>\n",
       "      <td>4.000000e-01</td>\n",
       "      <td>9.500000e-01</td>\n",
       "      <td>NaN</td>\n",
       "      <td>P</td>\n",
       "    </tr>\n",
       "    <tr>\n",
       "      <th>2</th>\n",
       "      <td>dleaf</td>\n",
       "      <td>8.100000e-03</td>\n",
       "      <td>2.430000e-01</td>\n",
       "      <td>NaN</td>\n",
       "      <td>P</td>\n",
       "    </tr>\n",
       "    <tr>\n",
       "      <th>4</th>\n",
       "      <td>kmax</td>\n",
       "      <td>1.000000e-08</td>\n",
       "      <td>3.000000e-08</td>\n",
       "      <td>4</td>\n",
       "      <td>P</td>\n",
       "    </tr>\n",
       "    <tr>\n",
       "      <th>11</th>\n",
       "      <td>baseflow_scalar</td>\n",
       "      <td>5.000000e-04</td>\n",
       "      <td>1.000000e-01</td>\n",
       "      <td>NaN</td>\n",
       "      <td>N</td>\n",
       "    </tr>\n",
       "    <tr>\n",
       "      <th>12</th>\n",
       "      <td>maximum_leaf_wetted_fraction</td>\n",
       "      <td>1.000000e-02</td>\n",
       "      <td>5.000000e-01</td>\n",
       "      <td>NaN</td>\n",
       "      <td>N</td>\n",
       "    </tr>\n",
       "  </tbody>\n",
       "</table>\n",
       "</div>"
      ],
      "text/plain": [
       "                            name           min           max dim2 location\n",
       "1                        displar  4.000000e-01  9.500000e-01  NaN        P\n",
       "2                          dleaf  8.100000e-03  2.430000e-01  NaN        P\n",
       "4                           kmax  1.000000e-08  3.000000e-08    4        P\n",
       "11               baseflow_scalar  5.000000e-04  1.000000e-01  NaN        N\n",
       "12  maximum_leaf_wetted_fraction  1.000000e-02  5.000000e-01  NaN        N"
      ]
     },
     "execution_count": 4,
     "metadata": {},
     "output_type": "execute_result"
    }
   ],
   "source": [
    "data     = pd.read_csv('params.csv')\n",
    "included = data['include']==1\n",
    "params   = data.loc[included,['name','min','max','dim2','location']]\n",
    "params"
   ]
  },
  {
   "cell_type": "markdown",
   "metadata": {},
   "source": [
    "### Generate parameter sampling\n",
    " * option available for latin hypercube (LHC) or one-at-a-time (OAAT)\n",
    " * careful, each time you run this you get a new random draw"
   ]
  },
  {
   "cell_type": "code",
   "execution_count": 110,
   "metadata": {},
   "outputs": [
    {
     "data": {
      "text/plain": [
       "False"
      ]
     },
     "execution_count": 110,
     "metadata": {},
     "output_type": "execute_result"
    }
   ],
   "source": [
    "sampling_protocol = 'OAAT'\n",
    "\n",
    "if sampling_protocol == 'LHC':\n",
    "    #define sample size (number of ensemble members)\n",
    "    nsamp = 10\n",
    "    nparam = len(params['name'])  #number of parameters\n",
    "\n",
    "    # Generate the latin hypercube sample\n",
    "    lhd = lhs(nparam, samples=int(nsamp))\n",
    "\n",
    "    # scale according to parameter range\n",
    "    param_array = ((params['max'] - params['min']).values)*lhd + params['min'].values\n",
    "\n",
    "elif sampling_protocol == 'OAAT':\n",
    "    #nan is code for keep the default value\n",
    "    param_array = np.nan*np.ones([2*nparam,nparam])\n",
    "    mins_index = (np.arange(0,2*nparam,2),np.arange(0,nparam,1))\n",
    "    maxs_index = (np.arange(1,2*nparam,2),np.arange(0,nparam,1))\n",
    "    param_array[mins_index]=params['min']\n",
    "    param_array[maxs_index]=params['max']\n",
    "\n",
    "    \n",
    "# store in a pandas dataframe\n",
    "psets = pd.DataFrame(data=param_array, index=None, columns=params['name'])\n",
    "~np.isnan(psets['dleaf'][0])"
   ]
  },
  {
   "cell_type": "markdown",
   "metadata": {},
   "source": [
    "## Generate parameter files\n",
    "* ### this will overwrite parameter files!!\n",
    "* ### proceed with caution"
   ]
  },
  {
   "cell_type": "code",
   "execution_count": 113,
   "metadata": {},
   "outputs": [
    {
     "name": "stdout",
     "output_type": "stream",
     "text": [
      "../paramfiles/OAAT0001.nc\n",
      "../paramfiles/OAAT0002.nc\n",
      "../paramfiles/OAAT0003.nc\n",
      "../paramfiles/OAAT0004.nc\n",
      "../paramfiles/OAAT0005.nc\n",
      "../paramfiles/OAAT0006.nc\n",
      "../paramfiles/OAAT0007.nc\n",
      "../paramfiles/OAAT0008.nc\n",
      "../paramfiles/OAAT0009.nc\n",
      "../paramfiles/OAAT0010.nc\n",
      "displar\n",
      "dleaf\n",
      "kmax\n"
     ]
    }
   ],
   "source": [
    "#create all the new parameter files, copied from basepftfile\n",
    "basepftfile = \"../basecase/clm5_params.c171117.nc\"\n",
    "prefix      = sampling_protocol\n",
    "for i in range(nsamp):\n",
    "    targetpftfile = \"../paramfiles/\"+prefix+str(i+1).zfill(4)+\".nc\"\n",
    "    print(targetpftfile)\n",
    "    os.system('cp '+basepftfile+' '+targetpftfile)\n",
    "    \n",
    "\n",
    "#modify the parameter values\n",
    "for name,loc in zip(params['name'],params['location']):\n",
    "    if loc=='P':\n",
    "        print(name)\n",
    "        for i in range(nsamp):\n",
    "            if ~np.isnan(psets[name][i]):\n",
    "                ct= ct+1\n",
    "                pftfile = \"../paramfiles/\"+prefix+str(i+1).zfill(4)+\".nc\"\n",
    "                f = nc.netcdf_file(pftfile, 'a') # could probably update this to use xarray\n",
    "                var = f.variables[name]\n",
    "                var[:] = psets[name][i] \n",
    "                # TODO: pft variations\n",
    "                f.close()"
   ]
  },
  {
   "cell_type": "markdown",
   "metadata": {},
   "source": [
    "### Generate namelist files"
   ]
  },
  {
   "cell_type": "markdown",
   "metadata": {},
   "source": [
    "First create files and specify the parameter file"
   ]
  },
  {
   "cell_type": "code",
   "execution_count": 115,
   "metadata": {},
   "outputs": [
    {
     "name": "stdout",
     "output_type": "stream",
     "text": [
      "paramfile='e001.nc'\n",
      "\n",
      "paramfile='e002.nc'\n",
      "\n",
      "paramfile='e003.nc'\n",
      "\n",
      "paramfile='e004.nc'\n",
      "\n",
      "paramfile='e005.nc'\n",
      "\n",
      "paramfile='e006.nc'\n",
      "\n",
      "paramfile='e007.nc'\n",
      "\n",
      "paramfile='e008.nc'\n",
      "\n",
      "paramfile='e009.nc'\n",
      "\n",
      "paramfile='e0010.nc'\n",
      "\n"
     ]
    }
   ],
   "source": [
    "for i in range(nsamp):\n",
    "    nlfile = \"../namelist_mods/\"+prefix+str(i+1).zfill(4)+\".txt\" \n",
    "    with open(nlfile,\"w\") as file:\n",
    "        pftfile = \"e00\"+str(i+1)+\".nc\" # placeholder for now; this need to be an exact path for the namelist to know where to pull the params file\n",
    "        output = \"paramfile='%s'\\n\" % (pftfile)\n",
    "        print(output)\n",
    "        file.write(output)"
   ]
  },
  {
   "cell_type": "markdown",
   "metadata": {},
   "source": [
    "Then populate them with parameter values\\\n",
    "I couldn't do this in the same loop as creating them because it was overriding content when iterating over parameters, but there may be a better way"
   ]
  },
  {
   "cell_type": "code",
   "execution_count": 118,
   "metadata": {},
   "outputs": [
    {
     "name": "stdout",
     "output_type": "stream",
     "text": [
      "baseflow_scalar\n",
      "1\n",
      "baseflow_scalar=0.06492708598089841\n",
      "\n",
      "2\n",
      "baseflow_scalar=0.010364258751763182\n",
      "\n",
      "3\n",
      "baseflow_scalar=0.098233363381138\n",
      "\n",
      "4\n",
      "baseflow_scalar=0.04852271929780149\n",
      "\n",
      "5\n",
      "baseflow_scalar=0.02994964534013261\n",
      "\n",
      "6\n",
      "baseflow_scalar=0.01778612448033447\n",
      "\n",
      "7\n",
      "baseflow_scalar=0.051154473279627154\n",
      "\n",
      "8\n",
      "baseflow_scalar=0.08086503289277693\n",
      "\n",
      "9\n",
      "baseflow_scalar=0.07993450573965355\n",
      "\n",
      "10\n",
      "baseflow_scalar=0.03954599970630231\n",
      "\n",
      "maximum_leaf_wetted_fraction\n",
      "1\n",
      "maximum_leaf_wetted_fraction=0.06498677492688287\n",
      "\n",
      "2\n",
      "maximum_leaf_wetted_fraction=0.1641523018303713\n",
      "\n",
      "3\n",
      "maximum_leaf_wetted_fraction=0.3067633129646689\n",
      "\n",
      "4\n",
      "maximum_leaf_wetted_fraction=0.44892798607756335\n",
      "\n",
      "5\n",
      "maximum_leaf_wetted_fraction=0.362619440378379\n",
      "\n",
      "6\n",
      "maximum_leaf_wetted_fraction=0.29523400055145715\n",
      "\n",
      "7\n",
      "maximum_leaf_wetted_fraction=0.22648668378423226\n",
      "\n",
      "8\n",
      "maximum_leaf_wetted_fraction=0.14846043324743308\n",
      "\n",
      "9\n",
      "maximum_leaf_wetted_fraction=0.039818367753108264\n",
      "\n",
      "10\n",
      "maximum_leaf_wetted_fraction=0.4968366997098795\n",
      "\n"
     ]
    }
   ],
   "source": [
    "for name,loc in zip(params['name'],params['location']):\n",
    "    if loc=='N':\n",
    "        print(name)\n",
    "        for i in range(nsamp):\n",
    "            print(i+1)\n",
    "            nlfile = \"../namelist_mods/e00\"+str(i+1)+\".txt\"   \n",
    "            with open(nlfile,\"a\") as file: # key is using \"a\" for append option\n",
    "                output = \"%s=%s\\n\" % (name, psets[name][i]) # Again, we can round these values if we think that's important\n",
    "                print(output)\n",
    "                file.write(output) "
   ]
  },
  {
   "cell_type": "code",
   "execution_count": null,
   "metadata": {},
   "outputs": [],
   "source": []
  }
 ],
 "metadata": {
  "kernelspec": {
   "display_name": "Python 3",
   "language": "python",
   "name": "python3"
  },
  "language_info": {
   "codemirror_mode": {
    "name": "ipython",
    "version": 3
   },
   "file_extension": ".py",
   "mimetype": "text/x-python",
   "name": "python",
   "nbconvert_exporter": "python",
   "pygments_lexer": "ipython3",
   "version": "3.6.8"
  }
 },
 "nbformat": 4,
 "nbformat_minor": 4
}
