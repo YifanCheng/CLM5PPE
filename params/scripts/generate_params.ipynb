{
 "cells": [
  {
   "cell_type": "code",
   "execution_count": 1,
   "metadata": {},
   "outputs": [],
   "source": [
    "import pandas as pd\n",
    "import os"
   ]
  },
  {
   "cell_type": "markdown",
   "metadata": {},
   "source": [
    "### Download latest version of params file from google drive"
   ]
  },
  {
   "cell_type": "code",
   "execution_count": 2,
   "metadata": {},
   "outputs": [
    {
     "data": {
      "text/plain": [
       "0"
      ]
     },
     "execution_count": 2,
     "metadata": {},
     "output_type": "execute_result"
    }
   ],
   "source": [
    "os.system('./update_csv.sh')"
   ]
  },
  {
   "cell_type": "markdown",
   "metadata": {},
   "source": [
    "### Read in csv data, filtering by the \"include\" column"
   ]
  },
  {
   "cell_type": "code",
   "execution_count": 3,
   "metadata": {},
   "outputs": [
    {
     "data": {
      "text/html": [
       "<div>\n",
       "<style scoped>\n",
       "    .dataframe tbody tr th:only-of-type {\n",
       "        vertical-align: middle;\n",
       "    }\n",
       "\n",
       "    .dataframe tbody tr th {\n",
       "        vertical-align: top;\n",
       "    }\n",
       "\n",
       "    .dataframe thead th {\n",
       "        text-align: right;\n",
       "    }\n",
       "</style>\n",
       "<table border=\"1\" class=\"dataframe\">\n",
       "  <thead>\n",
       "    <tr style=\"text-align: right;\">\n",
       "      <th></th>\n",
       "      <th>name</th>\n",
       "      <th>min</th>\n",
       "      <th>max</th>\n",
       "      <th>location</th>\n",
       "    </tr>\n",
       "  </thead>\n",
       "  <tbody>\n",
       "    <tr>\n",
       "      <td>1</td>\n",
       "      <td>displar</td>\n",
       "      <td>0.4000</td>\n",
       "      <td>0.950</td>\n",
       "      <td>P</td>\n",
       "    </tr>\n",
       "    <tr>\n",
       "      <td>2</td>\n",
       "      <td>dleaf</td>\n",
       "      <td>0.0081</td>\n",
       "      <td>0.243</td>\n",
       "      <td>P</td>\n",
       "    </tr>\n",
       "    <tr>\n",
       "      <td>11</td>\n",
       "      <td>baseflow_scalar</td>\n",
       "      <td>0.0005</td>\n",
       "      <td>0.100</td>\n",
       "      <td>N</td>\n",
       "    </tr>\n",
       "    <tr>\n",
       "      <td>12</td>\n",
       "      <td>maximum_leaf_wetted_fraction</td>\n",
       "      <td>0.0100</td>\n",
       "      <td>0.500</td>\n",
       "      <td>N</td>\n",
       "    </tr>\n",
       "  </tbody>\n",
       "</table>\n",
       "</div>"
      ],
      "text/plain": [
       "                            name     min    max location\n",
       "1                        displar  0.4000  0.950        P\n",
       "2                          dleaf  0.0081  0.243        P\n",
       "11               baseflow_scalar  0.0005  0.100        N\n",
       "12  maximum_leaf_wetted_fraction  0.0100  0.500        N"
      ]
     },
     "execution_count": 3,
     "metadata": {},
     "output_type": "execute_result"
    }
   ],
   "source": [
    "data     = pd.read_csv('params.csv')\n",
    "included = data['include']==1\n",
    "params   = data.loc[included,['name','min','max','location']]\n",
    "params"
   ]
  },
  {
   "cell_type": "markdown",
   "metadata": {},
   "source": [
    "### Demonstrating how to iterate through the params"
   ]
  },
  {
   "cell_type": "code",
   "execution_count": 4,
   "metadata": {},
   "outputs": [
    {
     "name": "stdout",
     "output_type": "stream",
     "text": [
      "displar 0.4 0.95 P\n",
      "dleaf 0.0081 0.243 P\n",
      "baseflow_scalar 0.0005 0.1 N\n",
      "maximum_leaf_wetted_fraction 0.01 0.5 N\n"
     ]
    }
   ],
   "source": [
    "for name,minval,maxval,loc in zip(params['name'],params['min'],params['max'],params['location']):\n",
    "    print(name,minval,maxval,loc)"
   ]
  },
  {
   "cell_type": "markdown",
   "metadata": {},
   "source": [
    "### Generate Latin Hypercube sampling"
   ]
  },
  {
   "cell_type": "code",
   "execution_count": 6,
   "metadata": {},
   "outputs": [],
   "source": [
    "from pyDOE import *"
   ]
  },
  {
   "cell_type": "markdown",
   "metadata": {},
   "source": [
    "Set sample size (number of ensemble members)"
   ]
  },
  {
   "cell_type": "code",
   "execution_count": 15,
   "metadata": {},
   "outputs": [],
   "source": [
    "nsamp = 10"
   ]
  },
  {
   "cell_type": "markdown",
   "metadata": {},
   "source": [
    "Number of parameters"
   ]
  },
  {
   "cell_type": "code",
   "execution_count": 23,
   "metadata": {},
   "outputs": [],
   "source": [
    "nparam = len(params['name'])"
   ]
  },
  {
   "cell_type": "markdown",
   "metadata": {},
   "source": [
    "Generate the latin hypercube"
   ]
  },
  {
   "cell_type": "code",
   "execution_count": 16,
   "metadata": {},
   "outputs": [],
   "source": [
    "# Only run this once! otherwise it changes the values so we might also want to save out this sampling\n",
    "lhd = lhs(nparam, samples=int(nsamp))"
   ]
  },
  {
   "cell_type": "code",
   "execution_count": 54,
   "metadata": {},
   "outputs": [
    {
     "data": {
      "text/plain": [
       "array([[0.73557401, 0.59224427, 0.6475084 , 0.11221791],\n",
       "       [0.69463579, 0.1767889 , 0.09913828, 0.31459653],\n",
       "       [0.93392253, 0.94205474, 0.98224486, 0.60563941],\n",
       "       [0.51014985, 0.77882368, 0.48264039, 0.8957714 ],\n",
       "       [0.32698981, 0.84235968, 0.29597634, 0.71963151],\n",
       "       [0.40896752, 0.01395879, 0.17372989, 0.58211021],\n",
       "       [0.26123003, 0.65358836, 0.50909018, 0.44180956],\n",
       "       [0.8804445 , 0.43047588, 0.80768877, 0.28257231],\n",
       "       [0.07585396, 0.26131156, 0.79833674, 0.06085381],\n",
       "       [0.18193349, 0.33568572, 0.39242211, 0.99354429]])"
      ]
     },
     "execution_count": 54,
     "metadata": {},
     "output_type": "execute_result"
    }
   ],
   "source": [
    "# this is a numpy array\n",
    "# rows are ensemble members\n",
    "# columns are parameters\n",
    "lhd"
   ]
  },
  {
   "cell_type": "markdown",
   "metadata": {},
   "source": [
    "Generate the parameter sets"
   ]
  },
  {
   "cell_type": "code",
   "execution_count": 56,
   "metadata": {},
   "outputs": [
    {
     "data": {
      "text/plain": [
       "array([0.4   , 0.0081, 0.0005, 0.01  ])"
      ]
     },
     "execution_count": 56,
     "metadata": {},
     "output_type": "execute_result"
    }
   ],
   "source": [
    "# to get numpy arrays out of pandas dataframe and do the arithmetic, need to use .values\n",
    "# there could be a better way to do this...I'm relatively new to pandas\n",
    "params['min'].values"
   ]
  },
  {
   "cell_type": "code",
   "execution_count": 52,
   "metadata": {},
   "outputs": [],
   "source": [
    "param_sets = ((params['max'] - params['min']).values)*lhd + params['min'].values"
   ]
  },
  {
   "cell_type": "code",
   "execution_count": 53,
   "metadata": {},
   "outputs": [
    {
     "data": {
      "text/plain": [
       "array([[0.8045657 , 0.14721818, 0.06492709, 0.06498677],\n",
       "       [0.78204969, 0.04962771, 0.01036426, 0.1641523 ],\n",
       "       [0.91365739, 0.22938866, 0.09823336, 0.30676331],\n",
       "       [0.68058242, 0.19104568, 0.04852272, 0.44892799],\n",
       "       [0.57984439, 0.20597029, 0.02994965, 0.36261944],\n",
       "       [0.62493214, 0.01137892, 0.01778612, 0.295234  ],\n",
       "       [0.54367652, 0.16162791, 0.05115447, 0.22648668],\n",
       "       [0.88424447, 0.10921878, 0.08086503, 0.14846043],\n",
       "       [0.44171968, 0.06948208, 0.07993451, 0.03981837],\n",
       "       [0.50006342, 0.08695258, 0.039546  , 0.4968367 ]])"
      ]
     },
     "execution_count": 53,
     "metadata": {},
     "output_type": "execute_result"
    }
   ],
   "source": [
    "param_sets"
   ]
  },
  {
   "cell_type": "markdown",
   "metadata": {},
   "source": [
    "Convert parameter sets back to pandas "
   ]
  },
  {
   "cell_type": "code",
   "execution_count": 62,
   "metadata": {},
   "outputs": [],
   "source": [
    "psets = pd.DataFrame(data=param_sets, index=None, columns=params['name'])"
   ]
  },
  {
   "cell_type": "code",
   "execution_count": 116,
   "metadata": {},
   "outputs": [
    {
     "data": {
      "text/html": [
       "<div>\n",
       "<style scoped>\n",
       "    .dataframe tbody tr th:only-of-type {\n",
       "        vertical-align: middle;\n",
       "    }\n",
       "\n",
       "    .dataframe tbody tr th {\n",
       "        vertical-align: top;\n",
       "    }\n",
       "\n",
       "    .dataframe thead th {\n",
       "        text-align: right;\n",
       "    }\n",
       "</style>\n",
       "<table border=\"1\" class=\"dataframe\">\n",
       "  <thead>\n",
       "    <tr style=\"text-align: right;\">\n",
       "      <th>name</th>\n",
       "      <th>displar</th>\n",
       "      <th>dleaf</th>\n",
       "      <th>baseflow_scalar</th>\n",
       "      <th>maximum_leaf_wetted_fraction</th>\n",
       "    </tr>\n",
       "  </thead>\n",
       "  <tbody>\n",
       "    <tr>\n",
       "      <td>0</td>\n",
       "      <td>0.804566</td>\n",
       "      <td>0.147218</td>\n",
       "      <td>0.064927</td>\n",
       "      <td>0.064987</td>\n",
       "    </tr>\n",
       "    <tr>\n",
       "      <td>1</td>\n",
       "      <td>0.782050</td>\n",
       "      <td>0.049628</td>\n",
       "      <td>0.010364</td>\n",
       "      <td>0.164152</td>\n",
       "    </tr>\n",
       "    <tr>\n",
       "      <td>2</td>\n",
       "      <td>0.913657</td>\n",
       "      <td>0.229389</td>\n",
       "      <td>0.098233</td>\n",
       "      <td>0.306763</td>\n",
       "    </tr>\n",
       "    <tr>\n",
       "      <td>3</td>\n",
       "      <td>0.680582</td>\n",
       "      <td>0.191046</td>\n",
       "      <td>0.048523</td>\n",
       "      <td>0.448928</td>\n",
       "    </tr>\n",
       "    <tr>\n",
       "      <td>4</td>\n",
       "      <td>0.579844</td>\n",
       "      <td>0.205970</td>\n",
       "      <td>0.029950</td>\n",
       "      <td>0.362619</td>\n",
       "    </tr>\n",
       "    <tr>\n",
       "      <td>5</td>\n",
       "      <td>0.624932</td>\n",
       "      <td>0.011379</td>\n",
       "      <td>0.017786</td>\n",
       "      <td>0.295234</td>\n",
       "    </tr>\n",
       "    <tr>\n",
       "      <td>6</td>\n",
       "      <td>0.543677</td>\n",
       "      <td>0.161628</td>\n",
       "      <td>0.051154</td>\n",
       "      <td>0.226487</td>\n",
       "    </tr>\n",
       "    <tr>\n",
       "      <td>7</td>\n",
       "      <td>0.884244</td>\n",
       "      <td>0.109219</td>\n",
       "      <td>0.080865</td>\n",
       "      <td>0.148460</td>\n",
       "    </tr>\n",
       "    <tr>\n",
       "      <td>8</td>\n",
       "      <td>0.441720</td>\n",
       "      <td>0.069482</td>\n",
       "      <td>0.079935</td>\n",
       "      <td>0.039818</td>\n",
       "    </tr>\n",
       "    <tr>\n",
       "      <td>9</td>\n",
       "      <td>0.500063</td>\n",
       "      <td>0.086953</td>\n",
       "      <td>0.039546</td>\n",
       "      <td>0.496837</td>\n",
       "    </tr>\n",
       "  </tbody>\n",
       "</table>\n",
       "</div>"
      ],
      "text/plain": [
       "name   displar     dleaf  baseflow_scalar  maximum_leaf_wetted_fraction\n",
       "0     0.804566  0.147218         0.064927                      0.064987\n",
       "1     0.782050  0.049628         0.010364                      0.164152\n",
       "2     0.913657  0.229389         0.098233                      0.306763\n",
       "3     0.680582  0.191046         0.048523                      0.448928\n",
       "4     0.579844  0.205970         0.029950                      0.362619\n",
       "5     0.624932  0.011379         0.017786                      0.295234\n",
       "6     0.543677  0.161628         0.051154                      0.226487\n",
       "7     0.884244  0.109219         0.080865                      0.148460\n",
       "8     0.441720  0.069482         0.079935                      0.039818\n",
       "9     0.500063  0.086953         0.039546                      0.496837"
      ]
     },
     "execution_count": 116,
     "metadata": {},
     "output_type": "execute_result"
    }
   ],
   "source": [
    "psets"
   ]
  },
  {
   "cell_type": "code",
   "execution_count": 102,
   "metadata": {},
   "outputs": [
    {
     "data": {
      "text/plain": [
       "0.06492708598089841"
      ]
     },
     "execution_count": 102,
     "metadata": {},
     "output_type": "execute_result"
    }
   ],
   "source": [
    "# Example of how to index the dataframe by parameter / ensemble member\n",
    "psets['baseflow_scalar'][0]"
   ]
  },
  {
   "cell_type": "markdown",
   "metadata": {},
   "source": [
    "### Generate parameter files"
   ]
  },
  {
   "cell_type": "code",
   "execution_count": 66,
   "metadata": {},
   "outputs": [],
   "source": [
    "from scipy.io import netcdf as nc"
   ]
  },
  {
   "cell_type": "code",
   "execution_count": 79,
   "metadata": {},
   "outputs": [],
   "source": [
    "basepftfile = \"../basecase/clm5_params.c171117.nc\""
   ]
  },
  {
   "cell_type": "code",
   "execution_count": 89,
   "metadata": {},
   "outputs": [
    {
     "name": "stdout",
     "output_type": "stream",
     "text": [
      "../basecase/clm5_params.c171117.nc\n"
     ]
    }
   ],
   "source": [
    "print(basepftfile)"
   ]
  },
  {
   "cell_type": "markdown",
   "metadata": {},
   "source": [
    "Copy the basepftfile `nsamp` times with unique filesname"
   ]
  },
  {
   "cell_type": "code",
   "execution_count": 94,
   "metadata": {},
   "outputs": [
    {
     "name": "stdout",
     "output_type": "stream",
     "text": [
      "1\n",
      "../paramfiles/e001.nc\n",
      "2\n",
      "../paramfiles/e002.nc\n",
      "3\n",
      "../paramfiles/e003.nc\n",
      "4\n",
      "../paramfiles/e004.nc\n",
      "5\n",
      "../paramfiles/e005.nc\n",
      "6\n",
      "../paramfiles/e006.nc\n",
      "7\n",
      "../paramfiles/e007.nc\n",
      "8\n",
      "../paramfiles/e008.nc\n",
      "9\n",
      "../paramfiles/e009.nc\n",
      "10\n",
      "../paramfiles/e0010.nc\n"
     ]
    }
   ],
   "source": [
    "for i in range(nsamp):\n",
    "    print(i+1)\n",
    "    targetpftfile = \"../paramfiles/e00\"+str(i+1)+\".nc\"\n",
    "    print(targetpftfile)\n",
    "    os.system('cp '+basepftfile+' '+targetpftfile)"
   ]
  },
  {
   "cell_type": "markdown",
   "metadata": {},
   "source": [
    "### Modify the params files with the appropriate values"
   ]
  },
  {
   "cell_type": "code",
   "execution_count": 100,
   "metadata": {},
   "outputs": [
    {
     "name": "stdout",
     "output_type": "stream",
     "text": [
      "displar\n",
      "1\n",
      "2\n",
      "3\n",
      "4\n",
      "5\n",
      "6\n",
      "7\n",
      "8\n",
      "9\n",
      "10\n",
      "dleaf\n",
      "1\n",
      "2\n",
      "3\n",
      "4\n",
      "5\n",
      "6\n",
      "7\n",
      "8\n",
      "9\n",
      "10\n"
     ]
    }
   ],
   "source": [
    "for name,loc in zip(params['name'],params['location']):\n",
    "    if loc=='P':\n",
    "        print(name)\n",
    "        for i in range(nsamp):\n",
    "            print(i+1)\n",
    "            pftfile = \"../paramfiles/e00\"+str(i+1)+\".nc\"\n",
    "            f = nc.netcdf_file(pftfile, 'a') # could probably update this to use xarray\n",
    "            var = f.variables[name]\n",
    "            var[:] = psets[name][i] # NOTE: we will have issues with this type of indexing when we get to things like kmax (indexed by pft and segment)\n",
    "            # Also, we might want to round these values taken from psets, otherwise it puts a lot of decimal places in the params file\n",
    "            # Do we want to have any variation among PFTs? For dleaf it doesn't really make sense to use the same min/max for all pfts\n",
    "            f.close()"
   ]
  },
  {
   "cell_type": "markdown",
   "metadata": {},
   "source": [
    "### Generate namelist files"
   ]
  },
  {
   "cell_type": "markdown",
   "metadata": {},
   "source": [
    "First create files and specify the parameter file"
   ]
  },
  {
   "cell_type": "code",
   "execution_count": 117,
   "metadata": {},
   "outputs": [
    {
     "name": "stdout",
     "output_type": "stream",
     "text": [
      "1\n",
      "paramfile='e001.nc'\n",
      "\n",
      "2\n",
      "paramfile='e002.nc'\n",
      "\n",
      "3\n",
      "paramfile='e003.nc'\n",
      "\n",
      "4\n",
      "paramfile='e004.nc'\n",
      "\n",
      "5\n",
      "paramfile='e005.nc'\n",
      "\n",
      "6\n",
      "paramfile='e006.nc'\n",
      "\n",
      "7\n",
      "paramfile='e007.nc'\n",
      "\n",
      "8\n",
      "paramfile='e008.nc'\n",
      "\n",
      "9\n",
      "paramfile='e009.nc'\n",
      "\n",
      "10\n",
      "paramfile='e0010.nc'\n",
      "\n"
     ]
    }
   ],
   "source": [
    "for i in range(nsamp):\n",
    "    print(i+1)\n",
    "    nlfile = \"../namelist_mods/e00\"+str(i+1)+\".txt\" \n",
    "    with open(nlfile,\"w\") as file:\n",
    "        pftfile = \"e00\"+str(i+1)+\".nc\" # placeholder for now; this need to be an exact path for the namelist to know where to pull the params file\n",
    "        output = \"paramfile='%s'\\n\" % (pftfile)\n",
    "        print(output)\n",
    "        file.write(output)"
   ]
  },
  {
   "cell_type": "markdown",
   "metadata": {},
   "source": [
    "Then populate them with parameter values\\\n",
    "I couldn't do this in the same loop as creating them because it was overriding content when iterating over parameters, but there may be a better way"
   ]
  },
  {
   "cell_type": "code",
   "execution_count": 118,
   "metadata": {},
   "outputs": [
    {
     "name": "stdout",
     "output_type": "stream",
     "text": [
      "baseflow_scalar\n",
      "1\n",
      "baseflow_scalar=0.06492708598089841\n",
      "\n",
      "2\n",
      "baseflow_scalar=0.010364258751763182\n",
      "\n",
      "3\n",
      "baseflow_scalar=0.098233363381138\n",
      "\n",
      "4\n",
      "baseflow_scalar=0.04852271929780149\n",
      "\n",
      "5\n",
      "baseflow_scalar=0.02994964534013261\n",
      "\n",
      "6\n",
      "baseflow_scalar=0.01778612448033447\n",
      "\n",
      "7\n",
      "baseflow_scalar=0.051154473279627154\n",
      "\n",
      "8\n",
      "baseflow_scalar=0.08086503289277693\n",
      "\n",
      "9\n",
      "baseflow_scalar=0.07993450573965355\n",
      "\n",
      "10\n",
      "baseflow_scalar=0.03954599970630231\n",
      "\n",
      "maximum_leaf_wetted_fraction\n",
      "1\n",
      "maximum_leaf_wetted_fraction=0.06498677492688287\n",
      "\n",
      "2\n",
      "maximum_leaf_wetted_fraction=0.1641523018303713\n",
      "\n",
      "3\n",
      "maximum_leaf_wetted_fraction=0.3067633129646689\n",
      "\n",
      "4\n",
      "maximum_leaf_wetted_fraction=0.44892798607756335\n",
      "\n",
      "5\n",
      "maximum_leaf_wetted_fraction=0.362619440378379\n",
      "\n",
      "6\n",
      "maximum_leaf_wetted_fraction=0.29523400055145715\n",
      "\n",
      "7\n",
      "maximum_leaf_wetted_fraction=0.22648668378423226\n",
      "\n",
      "8\n",
      "maximum_leaf_wetted_fraction=0.14846043324743308\n",
      "\n",
      "9\n",
      "maximum_leaf_wetted_fraction=0.039818367753108264\n",
      "\n",
      "10\n",
      "maximum_leaf_wetted_fraction=0.4968366997098795\n",
      "\n"
     ]
    }
   ],
   "source": [
    "for name,loc in zip(params['name'],params['location']):\n",
    "    if loc=='N':\n",
    "        print(name)\n",
    "        for i in range(nsamp):\n",
    "            print(i+1)\n",
    "            nlfile = \"../namelist_mods/e00\"+str(i+1)+\".txt\"   \n",
    "            with open(nlfile,\"a\") as file: # key is using \"a\" for append option\n",
    "                output = \"%s=%s\\n\" % (name, psets[name][i]) # Again, we can round these values if we think that's important\n",
    "                print(output)\n",
    "                file.write(output) "
   ]
  },
  {
   "cell_type": "code",
   "execution_count": null,
   "metadata": {},
   "outputs": [],
   "source": []
  }
 ],
 "metadata": {
  "kernelspec": {
   "display_name": "Python (conda-analysis)",
   "language": "python",
   "name": "analysis"
  },
  "language_info": {
   "codemirror_mode": {
    "name": "ipython",
    "version": 3
   },
   "file_extension": ".py",
   "mimetype": "text/x-python",
   "name": "python",
   "nbconvert_exporter": "python",
   "pygments_lexer": "ipython3",
   "version": "3.7.3"
  }
 },
 "nbformat": 4,
 "nbformat_minor": 4
}
