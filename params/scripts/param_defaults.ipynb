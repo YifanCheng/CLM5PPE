{
 "cells": [
  {
   "cell_type": "code",
   "execution_count": 133,
   "metadata": {},
   "outputs": [],
   "source": [
    "import numpy as np\n",
    "import pandas as pd\n",
    "import xarray as xr\n",
    "import os\n",
    "from netCDF4 import Dataset"
   ]
  },
  {
   "cell_type": "markdown",
   "metadata": {},
   "source": [
    "### Download latest version of params file from google drive\n",
    "* requires 'publishing' the google drive spreadsheet\n",
    "* file > publish to web\n",
    "* then it can be set up to continuously publish the spreadsheet to a stable url (with some latency, maybe 1-2 minutes)"
   ]
  },
  {
   "cell_type": "code",
   "execution_count": 2,
   "metadata": {},
   "outputs": [
    {
     "data": {
      "text/plain": [
       "0"
      ]
     },
     "execution_count": 2,
     "metadata": {},
     "output_type": "execute_result"
    }
   ],
   "source": [
    "data_url = 'https://docs.google.com/spreadsheets/d/e/2PACX-1vQs413GtLXtHVDCqEPgAwn4BbDjoWmV7uFqOAWH4mgpxXoVfN6ijnJdhyRgLkV-n2eU-sSQush4CzYU/pub?output=csv'\n",
    "cmd = 'curl '+data_url+' > params.csv'\n",
    "os.system(cmd)"
   ]
  },
  {
   "cell_type": "markdown",
   "metadata": {},
   "source": [
    "### Read in csv data, filtering by the \"include\" column"
   ]
  },
  {
   "cell_type": "code",
   "execution_count": 345,
   "metadata": {},
   "outputs": [
    {
     "data": {
      "text/html": [
       "<div>\n",
       "<style scoped>\n",
       "    .dataframe tbody tr th:only-of-type {\n",
       "        vertical-align: middle;\n",
       "    }\n",
       "\n",
       "    .dataframe tbody tr th {\n",
       "        vertical-align: top;\n",
       "    }\n",
       "\n",
       "    .dataframe thead th {\n",
       "        text-align: right;\n",
       "    }\n",
       "</style>\n",
       "<table border=\"1\" class=\"dataframe\">\n",
       "  <thead>\n",
       "    <tr style=\"text-align: right;\">\n",
       "      <th></th>\n",
       "      <th>name</th>\n",
       "      <th>min</th>\n",
       "      <th>max</th>\n",
       "      <th>location</th>\n",
       "      <th>pft_mins</th>\n",
       "      <th>pft_maxs</th>\n",
       "    </tr>\n",
       "  </thead>\n",
       "  <tbody>\n",
       "    <tr>\n",
       "      <th>1</th>\n",
       "      <td>displar</td>\n",
       "      <td>0.4</td>\n",
       "      <td>0.95</td>\n",
       "      <td>P</td>\n",
       "      <td>NaN</td>\n",
       "      <td>NaN</td>\n",
       "    </tr>\n",
       "    <tr>\n",
       "      <th>2</th>\n",
       "      <td>dleaf</td>\n",
       "      <td>pft</td>\n",
       "      <td>pft</td>\n",
       "      <td>P</td>\n",
       "      <td>0.000216,0.000216,0.00072,0.0081,0.0081,0.0081...</td>\n",
       "      <td>0.00108,0.00108,0.0036,0.0567,0.0567,0.243,0.2...</td>\n",
       "    </tr>\n",
       "    <tr>\n",
       "      <th>4</th>\n",
       "      <td>kmax</td>\n",
       "      <td>1.00E-08</td>\n",
       "      <td>3.00E-08</td>\n",
       "      <td>P</td>\n",
       "      <td>NaN</td>\n",
       "      <td>NaN</td>\n",
       "    </tr>\n",
       "    <tr>\n",
       "      <th>12</th>\n",
       "      <td>baseflow_scalar</td>\n",
       "      <td>0.0005</td>\n",
       "      <td>0.1</td>\n",
       "      <td>N</td>\n",
       "      <td>NaN</td>\n",
       "      <td>NaN</td>\n",
       "    </tr>\n",
       "    <tr>\n",
       "      <th>13</th>\n",
       "      <td>maximum_leaf_wetted_fraction</td>\n",
       "      <td>0.01</td>\n",
       "      <td>0.5</td>\n",
       "      <td>N</td>\n",
       "      <td>NaN</td>\n",
       "      <td>NaN</td>\n",
       "    </tr>\n",
       "  </tbody>\n",
       "</table>\n",
       "</div>"
      ],
      "text/plain": [
       "                            name       min       max location  \\\n",
       "1                        displar       0.4      0.95        P   \n",
       "2                          dleaf       pft       pft        P   \n",
       "4                           kmax  1.00E-08  3.00E-08        P   \n",
       "12               baseflow_scalar    0.0005       0.1        N   \n",
       "13  maximum_leaf_wetted_fraction      0.01       0.5        N   \n",
       "\n",
       "                                             pft_mins  \\\n",
       "1                                                 NaN   \n",
       "2   0.000216,0.000216,0.00072,0.0081,0.0081,0.0081...   \n",
       "4                                                 NaN   \n",
       "12                                                NaN   \n",
       "13                                                NaN   \n",
       "\n",
       "                                             pft_maxs  \n",
       "1                                                 NaN  \n",
       "2   0.00108,0.00108,0.0036,0.0567,0.0567,0.243,0.2...  \n",
       "4                                                 NaN  \n",
       "12                                                NaN  \n",
       "13                                                NaN  "
      ]
     },
     "execution_count": 345,
     "metadata": {},
     "output_type": "execute_result"
    }
   ],
   "source": [
    "data     = pd.read_csv('params.csv',header=0,skiprows=[1])\n",
    "included = data['include']==1\n",
    "params   = data.loc[included,['name','min','max','location','pft_mins','pft_maxs']]\n",
    "\n",
    "np.fromstring(params['pft_mins'][2],dtype='float',sep=',')\n",
    "\n",
    "\n",
    "params"
   ]
  },
  {
   "cell_type": "markdown",
   "metadata": {},
   "source": [
    "### Read in default parameter file\n",
    " * file may change as Keith pulls out more hard-coded params"
   ]
  },
  {
   "cell_type": "code",
   "execution_count": 367,
   "metadata": {},
   "outputs": [
    {
     "data": {
      "text/plain": [
       "['not_vegetated',\n",
       " 'needleleaf_evergreen_temperate_tree',\n",
       " 'needleleaf_evergreen_boreal_tree',\n",
       " 'needleleaf_deciduous_boreal_tree',\n",
       " 'broadleaf_evergreen_tropical_tree',\n",
       " 'broadleaf_evergreen_temperate_tree',\n",
       " 'broadleaf_deciduous_tropical_tree',\n",
       " 'broadleaf_deciduous_temperate_tree',\n",
       " 'broadleaf_deciduous_boreal_tree',\n",
       " 'broadleaf_evergreen_shrub',\n",
       " 'broadleaf_deciduous_temperate_shrub',\n",
       " 'broadleaf_deciduous_boreal_shrub',\n",
       " 'c3_arctic_grass',\n",
       " 'c3_non-arctic_grass',\n",
       " 'c4_grass']"
      ]
     },
     "execution_count": 367,
     "metadata": {},
     "output_type": "execute_result"
    }
   ],
   "source": [
    "filepath = '/glade/p/cgd/tss/people/oleson/modify_param/clm5_params.c200402.nc'\n",
    "ds = xr.open_dataset(filepath,decode_times=False)\n",
    "\n",
    "npft = ds['pft'].values.size\n",
    "pftnames = []\n",
    "for i in np.arange(npft):\n",
    "    x = str(ds['pftname'][i].values)[2:-1].strip()\n",
    "    pftnames.append(x)\n",
    "\n",
    "pftnames[:15]"
   ]
  },
  {
   "cell_type": "markdown",
   "metadata": {},
   "source": [
    "## Generate parameter files\n",
    "* ### this will overwrite parameter files!!\n",
    "* ### proceed with caution"
   ]
  },
  {
   "cell_type": "code",
   "execution_count": 254,
   "metadata": {},
   "outputs": [
    {
     "data": {
      "text/plain": [
       "[array([0., 0., 0., 0., 0., 0., 0., 0., 0., 0., 0., 0., 0., 0.]),\n",
       " array([4., 1., 1., 5., 3., 5., 3., 1., 2., 2., 0., 0., 1., 1.])]"
      ]
     },
     "execution_count": 254,
     "metadata": {},
     "output_type": "execute_result"
    }
   ],
   "source": [
    "nparams = len(list(ds.data_vars))\n",
    "ongoogle = np.zeros(nparams)\n",
    "patterns = []\n",
    "for p in data['name']:\n",
    "    if p in ds.data_vars:\n",
    "        shp = ds[p].values.shape\n",
    "        if ds[p].values.size<79:\n",
    "            v = ds[p].values+np.zeros(14)\n",
    "        elif shp[0]<79:\n",
    "            v = ds[p].values[0,1:15]\n",
    "        else:\n",
    "            v = ds[p].values[1:15]\n",
    "            \n",
    "        u = np.unique(v)\n",
    "        pattern = np.zeros(14)\n",
    "        for i in np.arange(14):\n",
    "            pattern[i] = list(u).index(v[i])\n",
    "        if len(patterns)==0:\n",
    "            patterns.append(pattern)\n",
    "        else:\n",
    "            found = 0\n",
    "            for i in np.arange(len(patterns)):\n",
    "                if np.array_equal(pattern, patterns[i]):\n",
    "                    found = 1\n",
    "            if not found:\n",
    "                patterns.append(pattern)\n",
    "\n",
    "patterns = [patterns[i] for i in [1,6]]\n",
    "patterns\n",
    "#pattern0 = all equal\n",
    "#pattern4 = NT,BT,S,G\n",
    "#otherwise .... varies\n",
    "\n"
   ]
  },
  {
   "cell_type": "code",
   "execution_count": 383,
   "metadata": {},
   "outputs": [],
   "source": [
    "\n",
    "nparams = len(list(ds.data_vars))\n",
    "ongoogle = np.zeros(nparams)\n",
    "ct = -1\n",
    "longname = []\n",
    "units =[]\n",
    "default=[]\n",
    "for p in data['name']:\n",
    "    if p in ds.data_vars:\n",
    "        longname.append(ds[p].long_name)\n",
    "        if 'units' in ds['kmax'].attrs:\n",
    "            units.append(ds[p].units)\n",
    "        else:\n",
    "            units.append('bug! units not provided in params file')\n",
    "        ct = ct+1\n",
    "        shp = ds[p].values.shape\n",
    "        if ds[p].values.size<79:\n",
    "            v = ds[p].values+np.zeros(14)\n",
    "        elif shp[0]<79:\n",
    "            v = ds[p].values[0,1:15]\n",
    "        else:\n",
    "            v = ds[p].values[1:15]\n",
    "\n",
    "        if np.all(abs(v-np.mean(v))<0.0001):\n",
    "            val = v[0]\n",
    "            if (abs(val)>=1000)|(abs(val)<0.01):\n",
    "                x = f\"{Decimal(val):.2E}\"\n",
    "            else:\n",
    "                x = str(val)\n",
    "            default.append(x)\n",
    "            pftvals.append('all pfts equal')\n",
    "        else:\n",
    "            themin = min(v)\n",
    "            themax = max(v)\n",
    "            if (abs(themin)>=1000)|(abs(themin)<0.01):\n",
    "                x = f\"{Decimal(themin):.2E}\"\n",
    "                y = f\"{Decimal(themax):.2E}\"\n",
    "            else:\n",
    "                x = str(np.around(themin,4))\n",
    "                y = str(np.around(themax,4))\n",
    "            default.append('varies: '+x+' to '+y)\n",
    "    else:\n",
    "        longname.append('no exact match in params file')\n",
    "        units.append('tbd')\n",
    "        default.append('tbd')\n",
    "d = {'name':data['name'],'long_name':longname,'default value':default,'units':units}\n",
    "df = pd.DataFrame(data=d)\n",
    "df.to_csv('google_drive_sheet1_fillin.csv')\n",
    "\n"
   ]
  },
  {
   "cell_type": "code",
   "execution_count": 412,
   "metadata": {},
   "outputs": [
    {
     "name": "stderr",
     "output_type": "stream",
     "text": [
      "/gpfs/u/apps/dav/opt/python/3.6.8/gnu/7.3.0/pkg-library/20190723/lib/python3.6/site-packages/ipykernel_launcher.py:24: RuntimeWarning: invalid value encountered in less\n",
      "/gpfs/u/apps/dav/opt/python/3.6.8/gnu/7.3.0/pkg-library/20190723/lib/python3.6/site-packages/ipykernel_launcher.py:34: RuntimeWarning: All-NaN slice encountered\n",
      "/gpfs/u/apps/dav/opt/python/3.6.8/gnu/7.3.0/pkg-library/20190723/lib/python3.6/site-packages/ipykernel_launcher.py:35: RuntimeWarning: All-NaN slice encountered\n"
     ]
    }
   ],
   "source": [
    "\n",
    "nparams = len(list(ds.data_vars))\n",
    "ongoogle = np.zeros(nparams)\n",
    "ct = -1\n",
    "name = []\n",
    "longname = []\n",
    "units =[]\n",
    "default=[]\n",
    "for p in ds.data_vars:\n",
    "    if p not in data['name'].values:\n",
    "        name.append(p)\n",
    "        longname.append(ds[p].long_name)\n",
    "        if 'units' in ds[p].attrs:\n",
    "            units.append(ds[p].units)\n",
    "        else:\n",
    "            units.append('bug! units not provided in params file')\n",
    "        shp = ds[p].values.shape\n",
    "        if ds[p].values.size<79:\n",
    "            v = ds[p].values+np.zeros(14)\n",
    "        elif shp[0]<79:\n",
    "            v = ds[p].values[0,1:15]\n",
    "        else:\n",
    "            v = ds[p].values[1:15]\n",
    "\n",
    "        if np.all(abs(v-np.mean(v))<abs(0.001*v)):\n",
    "            val = v[0]\n",
    "            if (abs(val)>=1000)|(abs(val)<0.01):\n",
    "                x = f\"{Decimal(val):.2E}\"\n",
    "            else:\n",
    "                x = str(np.around(val,4))\n",
    "            default.append(x)\n",
    "        elif np.all(v==0):\n",
    "            default.append('0')\n",
    "        else:\n",
    "            themin = np.nanmin(v)\n",
    "            themax = np.nanmax(v)\n",
    "            if (abs(themax)>=1000)|(abs(themax)<0.01):\n",
    "                x = f\"{Decimal(themin):.2E}\"\n",
    "                y = f\"{Decimal(themax):.2E}\"\n",
    "            else:\n",
    "                x = str(np.around(themin,4))\n",
    "                y = str(np.around(themax,4))\n",
    "            default.append('varies: '+x+' to '+y)\n",
    "\n",
    "d = {'name':name,'long_name':longname,'default value':default,'units':units}\n",
    "df = pd.DataFrame(data=d)\n",
    "notflag = df.units!='flag'\n",
    "df = df.loc[notflag]\n",
    "notflag = df.units!='logical flag'\n",
    "df = df.loc[notflag]\n",
    "df.to_csv('more_params.csv')\n"
   ]
  },
  {
   "cell_type": "markdown",
   "metadata": {},
   "source": [
    "### Generate namelist files"
   ]
  },
  {
   "cell_type": "code",
   "execution_count": 406,
   "metadata": {},
   "outputs": [
    {
     "data": {
      "text/plain": [
       "array(-0.8)"
      ]
     },
     "execution_count": 406,
     "metadata": {},
     "output_type": "execute_result"
    }
   ],
   "source": [
    "v = ds['soilpsi_off'].values\n",
    "v"
   ]
  },
  {
   "cell_type": "code",
   "execution_count": 19,
   "metadata": {},
   "outputs": [],
   "source": []
  },
  {
   "cell_type": "code",
   "execution_count": 289,
   "metadata": {},
   "outputs": [
    {
     "data": {
      "text/plain": [
       "'4.08E+10'"
      ]
     },
     "execution_count": 289,
     "metadata": {},
     "output_type": "execute_result"
    }
   ],
   "source": [
    "from decimal import Decimal\n",
    "f\"{Decimal('40800000000.00000000000000'):.2E}\""
   ]
  },
  {
   "cell_type": "code",
   "execution_count": null,
   "metadata": {},
   "outputs": [],
   "source": []
  }
 ],
 "metadata": {
  "kernelspec": {
   "display_name": "Python 3",
   "language": "python",
   "name": "python3"
  },
  "language_info": {
   "codemirror_mode": {
    "name": "ipython",
    "version": 3
   },
   "file_extension": ".py",
   "mimetype": "text/x-python",
   "name": "python",
   "nbconvert_exporter": "python",
   "pygments_lexer": "ipython3",
   "version": "3.7.3"
  }
 },
 "nbformat": 4,
 "nbformat_minor": 4
}
